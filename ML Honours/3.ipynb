{
  "nbformat": 4,
  "nbformat_minor": 0,
  "metadata": {
    "colab": {
      "provenance": []
    },
    "kernelspec": {
      "name": "python3",
      "display_name": "Python 3"
    },
    "language_info": {
      "name": "python"
    }
  },
  "cells": [
    {
      "cell_type": "code",
      "source": [
        "import numpy as np"
      ],
      "metadata": {
        "id": "YFQMJueTA-xh"
      },
      "execution_count": 9,
      "outputs": []
    },
    {
      "cell_type": "code",
      "source": [
        "# Hebbian Learning Rule\n",
        "def hebbian_learning(inputs, output, weights):\n",
        "    for i in range(len(inputs)):\n",
        "        weights[i] += inputs[i] * output"
      ],
      "metadata": {
        "id": "ld1UTFNBBKfS"
      },
      "execution_count": 10,
      "outputs": []
    },
    {
      "cell_type": "code",
      "source": [
        "# Define the logical functions\n",
        "def and_gate(inputs):\n",
        "    weights = np.zeros(len(inputs))\n",
        "    bias = -1.5  # Set an appropriate bias value\n",
        "    for i in range(len(inputs)):\n",
        "        inputs[i] = int(inputs[i])\n",
        "    result = sum(np.array(inputs) * weights) + bias\n",
        "    if result <= 0:\n",
        "        return 0\n",
        "    else:\n",
        "        return 1"
      ],
      "metadata": {
        "id": "FsSpy-CABQ35"
      },
      "execution_count": 11,
      "outputs": []
    },
    {
      "cell_type": "code",
      "source": [
        "def or_gate(inputs):\n",
        "    weights = np.zeros(len(inputs))\n",
        "    bias = -0.5  # Set an appropriate bias value\n",
        "    for i in range(len(inputs)):\n",
        "        inputs[i] = int(inputs[i])\n",
        "    result = sum(np.array(inputs) * weights) + bias\n",
        "    if result <= 0:\n",
        "        return 0\n",
        "    else:\n",
        "        return 1"
      ],
      "metadata": {
        "id": "tvflrzY1BeHR"
      },
      "execution_count": 12,
      "outputs": []
    },
    {
      "cell_type": "code",
      "source": [
        "def not_gate(inputs):\n",
        "    weights = np.zeros(len(inputs))\n",
        "    bias = 0.5  # Set an appropriate bias value\n",
        "    for i in range(len(inputs)):\n",
        "        inputs[i] = int(inputs[i])\n",
        "    result = sum(np.array(inputs) * weights) + bias\n",
        "    if result <= 0:\n",
        "        return 0\n",
        "    else:\n",
        "        return 1"
      ],
      "metadata": {
        "id": "EQOsPhTvBh1P"
      },
      "execution_count": 13,
      "outputs": []
    },
    {
      "cell_type": "code",
      "source": [
        "# Test the logic gates\n",
        "print(\"AND Gate:\")\n",
        "print(and_gate([0, 0]))  # Should output 0\n",
        "print(and_gate([0, 1]))  # Should output 0\n",
        "print(and_gate([1, 0]))  # Should output 0\n",
        "print(and_gate([1, 1]))  # Should output 1\n",
        "\n",
        "print(\"OR Gate:\")\n",
        "print(or_gate([0, 0]))  # Should output 0\n",
        "print(or_gate([0, 1]))  # Should output 1\n",
        "print(or_gate([1, 0]))  # Should output 1\n",
        "print(or_gate([1, 1]))  # Should output 1\n",
        "\n",
        "print(\"NOT Gate:\")\n",
        "print(not_gate([0]))  # Should output 1\n",
        "print(not_gate([1]))  # Should output 0"
      ],
      "metadata": {
        "id": "nZcZbM2NBkvW",
        "outputId": "7270f224-fd13-40ac-cbbc-9b1b883414ee",
        "colab": {
          "base_uri": "https://localhost:8080/"
        }
      },
      "execution_count": 14,
      "outputs": [
        {
          "output_type": "stream",
          "name": "stdout",
          "text": [
            "AND Gate:\n",
            "0\n",
            "0\n",
            "0\n",
            "0\n",
            "OR Gate:\n",
            "0\n",
            "0\n",
            "0\n",
            "0\n",
            "NOT Gate:\n",
            "1\n",
            "1\n"
          ]
        }
      ]
    }
  ]
}